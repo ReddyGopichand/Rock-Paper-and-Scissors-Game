{
  "nbformat": 4,
  "nbformat_minor": 0,
  "metadata": {
    "colab": {
      "provenance": []
    },
    "kernelspec": {
      "name": "python3",
      "display_name": "Python 3"
    },
    "language_info": {
      "name": "python"
    }
  },
  "cells": [
    {
      "cell_type": "markdown",
      "source": [
        "# **Rock,Paper and Scissors Game**"
      ],
      "metadata": {
        "id": "kiDs7Wp-hYit"
      }
    },
    {
      "cell_type": "code",
      "execution_count": 1,
      "metadata": {
        "colab": {
          "base_uri": "https://localhost:8080/"
        },
        "id": "u6NiM68lhV74",
        "outputId": "e1663025-2aca-4eeb-bb7e-984b671fa0e6"
      },
      "outputs": [
        {
          "output_type": "stream",
          "name": "stdout",
          "text": [
            "Enter your play (rock, paper, or scissors): rock\n",
            "The computer plays: rock\n",
            "It's a tie!\n"
          ]
        }
      ],
      "source": [
        "# import the random module\n",
        "import random\n",
        "# define a list of play options\n",
        "plays = ['rock', 'paper', 'scissors']\n",
        "\n",
        "# create a function to get the computer's play\n",
        "def get_computer_play():\n",
        "  return random.choice(plays)\n",
        "\n",
        "# create a function to get the winner\n",
        "def get_winner(player_play, computer_play):\n",
        "  if player_play == computer_play:\n",
        "    return \"It's a tie!\"\n",
        "  elif player_play == 'rock' and computer_play == 'scissors':\n",
        "    return \"You win!\"\n",
        "  elif player_play == 'paper' and computer_play == 'rock':\n",
        "    return \"You win!\"\n",
        "  elif player_play == 'scissors' and computer_play == 'paper':\n",
        "    return \"You win!\"\n",
        "  else:\n",
        "    return \"The computer wins.\"\n",
        "\n",
        "# create a function to run the game\n",
        "def play_game():\n",
        "  player_play = input(\"Enter your play (rock, paper, or scissors): \")\n",
        "  computer_play = get_computer_play()\n",
        "  print(f\"The computer plays: {computer_play}\")\n",
        "  print(get_winner(player_play, computer_play))\n",
        "\n",
        "# run the game\n",
        "play_game()\n",
        "\n"
      ]
    }
  ]
}